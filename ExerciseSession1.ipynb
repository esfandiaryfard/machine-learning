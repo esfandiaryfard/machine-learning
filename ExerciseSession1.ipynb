{
  "nbformat": 4,
  "nbformat_minor": 0,
  "metadata": {
    "colab": {
      "name": "ExerciseSession1.ipynb",
      "provenance": [],
      "authorship_tag": "ABX9TyMobnF+Ofo1cxoWqBe6JWTv",
      "include_colab_link": true
    },
    "kernelspec": {
      "name": "python3",
      "display_name": "Python 3"
    },
    "language_info": {
      "name": "python"
    }
  },
  "cells": [
    {
      "cell_type": "markdown",
      "metadata": {
        "id": "view-in-github",
        "colab_type": "text"
      },
      "source": [
        "<a href=\"https://colab.research.google.com/github/esfandiaryfard/machine-learning/blob/main/ExerciseSession1.ipynb\" target=\"_parent\"><img src=\"https://colab.research.google.com/assets/colab-badge.svg\" alt=\"Open In Colab\"/></a>"
      ]
    },
    {
      "cell_type": "code",
      "execution_count": 1,
      "metadata": {
        "id": "oFbKWi-5YXf7"
      },
      "outputs": [],
      "source": [
        "import torch"
      ]
    },
    {
      "cell_type": "markdown",
      "source": [
        "# Add Dimention to Tensor"
      ],
      "metadata": {
        "id": "0JPXtKZYhlsS"
      }
    },
    {
      "cell_type": "code",
      "source": [
        "y = torch.ones(2, 3)\n",
        "y.shape"
      ],
      "metadata": {
        "colab": {
          "base_uri": "https://localhost:8080/"
        },
        "id": "A04rxQhEhk6E",
        "outputId": "863a2001-ec2d-42a4-d6c4-728f40ed4698"
      },
      "execution_count": 2,
      "outputs": [
        {
          "output_type": "execute_result",
          "data": {
            "text/plain": [
              "torch.Size([2, 3])"
            ]
          },
          "metadata": {},
          "execution_count": 2
        }
      ]
    },
    {
      "cell_type": "code",
      "source": [
        "y_unsqueezed = y.unsqueeze(dim = 0)\n",
        "y_unsqueezed.shape # 3D tensor"
      ],
      "metadata": {
        "colab": {
          "base_uri": "https://localhost:8080/"
        },
        "id": "GTJGU4c8ht4-",
        "outputId": "189cf305-cffb-4587-9e68-55688561b5fd"
      },
      "execution_count": 3,
      "outputs": [
        {
          "output_type": "execute_result",
          "data": {
            "text/plain": [
              "torch.Size([1, 2, 3])"
            ]
          },
          "metadata": {},
          "execution_count": 3
        }
      ]
    },
    {
      "cell_type": "code",
      "source": [
        "y_unsqueezed = y.unsqueeze(dim = 1)\n",
        "y_unsqueezed.shape # 3D tensor"
      ],
      "metadata": {
        "colab": {
          "base_uri": "https://localhost:8080/"
        },
        "id": "M8APJxLyhu1m",
        "outputId": "581e1530-6e0c-45b5-e786-1436f1232ea8"
      },
      "execution_count": 4,
      "outputs": [
        {
          "output_type": "execute_result",
          "data": {
            "text/plain": [
              "torch.Size([2, 1, 3])"
            ]
          },
          "metadata": {},
          "execution_count": 4
        }
      ]
    },
    {
      "cell_type": "markdown",
      "source": [
        "# And Logic"
      ],
      "metadata": {
        "id": "vK9-nNGN6QDJ"
      }
    },
    {
      "cell_type": "code",
      "source": [
        "# create dataset\n",
        "num_samples = 5000\n",
        "data = torch.randint(low = 0, high = 2, size = (num_samples, 2), dtype=torch.float32 )"
      ],
      "metadata": {
        "id": "_RWiQbZ1Ztgo"
      },
      "execution_count": 5,
      "outputs": []
    },
    {
      "cell_type": "code",
      "source": [
        "data.shape"
      ],
      "metadata": {
        "colab": {
          "base_uri": "https://localhost:8080/"
        },
        "id": "1qg-YSQBaBPT",
        "outputId": "782f03d8-c8bb-4c2b-bee4-8d750e7f9126"
      },
      "execution_count": null,
      "outputs": [
        {
          "output_type": "execute_result",
          "data": {
            "text/plain": [
              "torch.Size([5000, 2])"
            ]
          },
          "metadata": {},
          "execution_count": 45
        }
      ]
    },
    {
      "cell_type": "code",
      "source": [
        "labels = (data.sum(dim=1)==2).to(torch.float32)\n",
        "labels"
      ],
      "metadata": {
        "id": "487tJE4Uas_J",
        "colab": {
          "base_uri": "https://localhost:8080/"
        },
        "outputId": "79122782-2fcb-41a1-d9d3-c72063c8d7a0"
      },
      "execution_count": 13,
      "outputs": [
        {
          "output_type": "execute_result",
          "data": {
            "text/plain": [
              "tensor([0., 0., 0.,  ..., 0., 0., 0.])"
            ]
          },
          "metadata": {},
          "execution_count": 13
        }
      ]
    },
    {
      "cell_type": "code",
      "source": [
        "for i in range(10):\n",
        "  print(f\"x:{data[i]}, label:{labels[i]}\")"
      ],
      "metadata": {
        "colab": {
          "base_uri": "https://localhost:8080/"
        },
        "id": "eTdunT8Qb51N",
        "outputId": "f7d2d8bf-41e4-4290-8571-661d5980eb87"
      },
      "execution_count": 14,
      "outputs": [
        {
          "output_type": "stream",
          "name": "stdout",
          "text": [
            "x:tensor([1., 0.]), label:0.0\n",
            "x:tensor([1., 0.]), label:0.0\n",
            "x:tensor([0., 1.]), label:0.0\n",
            "x:tensor([0., 1.]), label:0.0\n",
            "x:tensor([1., 1.]), label:1.0\n",
            "x:tensor([0., 0.]), label:0.0\n",
            "x:tensor([1., 1.]), label:1.0\n",
            "x:tensor([1., 1.]), label:1.0\n",
            "x:tensor([1., 1.]), label:1.0\n",
            "x:tensor([1., 1.]), label:1.0\n"
          ]
        }
      ]
    },
    {
      "cell_type": "code",
      "source": [
        "data +=0.1*torch.randn(data.shape)"
      ],
      "metadata": {
        "id": "Zff7VYNkb6u2"
      },
      "execution_count": null,
      "outputs": []
    },
    {
      "cell_type": "code",
      "source": [
        "for i in range(10):\n",
        "  print(f\"x:{data[i]}, label:{labels[i]}\")"
      ],
      "metadata": {
        "colab": {
          "base_uri": "https://localhost:8080/"
        },
        "id": "qDDmy8X3cKrC",
        "outputId": "eb6d8d0a-9048-42aa-bbe4-db38816a2732"
      },
      "execution_count": null,
      "outputs": [
        {
          "output_type": "stream",
          "name": "stdout",
          "text": [
            "x:tensor([0.9946, 0.9882]), label:1.0\n",
            "x:tensor([ 0.9769, -0.1013]), label:0.0\n",
            "x:tensor([ 0.9913, -0.0576]), label:0.0\n",
            "x:tensor([0.9848, 1.1448]), label:1.0\n",
            "x:tensor([-0.1394, -0.0277]), label:0.0\n",
            "x:tensor([0.8374, 0.8051]), label:1.0\n",
            "x:tensor([-0.1016,  1.0067]), label:0.0\n",
            "x:tensor([1.0026, 1.0679]), label:1.0\n",
            "x:tensor([1.0138, 0.1531]), label:0.0\n",
            "x:tensor([0.7459, 0.8227]), label:1.0\n"
          ]
        }
      ]
    },
    {
      "cell_type": "code",
      "source": [
        "import matplotlib.pyplot as plt\n",
        "plt.scatter(data[:,0], data[:,1], c = labels, cmap = \"jet\")\n",
        "plt.show()"
      ],
      "metadata": {
        "colab": {
          "base_uri": "https://localhost:8080/",
          "height": 265
        },
        "id": "ZS78B3CicP9h",
        "outputId": "32dbe582-bf6a-42ef-ad62-1119c2992f83"
      },
      "execution_count": null,
      "outputs": [
        {
          "output_type": "display_data",
          "data": {
            "text/plain": [
              "<Figure size 432x288 with 1 Axes>"
            ],
            "image/png": "[encoded data removed]"
          },
          "metadata": {
            "needs_background": "light"
          }
        }
      ]
    },
    {
      "cell_type": "code",
      "source": [
        "def generate_and_dataset(num_samples = 5000):\n",
        "  data = torch.randint(low = 0 , high = 2, size=(num_samples,2), dtype=torch.float32)\n",
        "  labels = (data.sum(dim=1) == 2).to(torch.float32)\n",
        "  data += 0.1 * torch.randn(data.shape)\n",
        "  return data, labels"
      ],
      "metadata": {
        "id": "Ig0XQJsncQXX"
      },
      "execution_count": null,
      "outputs": []
    },
    {
      "cell_type": "code",
      "source": [
        "from torch.utils.data import Dataset\n",
        "class ANDDataset(Dataset):\n",
        "  def __init__(self, num_samples = 5000):\n",
        "    super().__init__()\n",
        "    self.size = num_samples\n",
        "    self.data, self.labels = generate_and_dataset(self.size)\n",
        "  \n",
        "  def __len__(self):\n",
        "    return self.size\n",
        "  \n",
        "  def __getitem__(self, idx):\n",
        "    data_point = self.data[idx]\n",
        "    data_label = self.labels[idx]\n",
        "    return data_point, data_label "
      ],
      "metadata": {
        "id": "kFXhrI-mceUu"
      },
      "execution_count": null,
      "outputs": []
    },
    {
      "cell_type": "code",
      "source": [
        "and_dataset = ANDDataset(num_samples=5000)\n",
        "len(and_dataset)"
      ],
      "metadata": {
        "colab": {
          "base_uri": "https://localhost:8080/"
        },
        "id": "_A_pG_D7cxJI",
        "outputId": "9ace341c-2b6a-4457-fddf-28299a8d5b9b"
      },
      "execution_count": null,
      "outputs": [
        {
          "output_type": "execute_result",
          "data": {
            "text/plain": [
              "5000"
            ]
          },
          "metadata": {},
          "execution_count": 56
        }
      ]
    },
    {
      "cell_type": "code",
      "source": [
        "point, label = and_dataset[0]\n",
        "print(\"Point:\", point)\n",
        "print(\"Label:\", label)"
      ],
      "metadata": {
        "colab": {
          "base_uri": "https://localhost:8080/"
        },
        "id": "WgrgDDqJdbZ8",
        "outputId": "ddeb0520-849a-4090-ccc4-81705f598342"
      },
      "execution_count": null,
      "outputs": [
        {
          "output_type": "stream",
          "name": "stdout",
          "text": [
            "Point: tensor([ 1.0673, -0.0357])\n",
            "Label: tensor(0.)\n"
          ]
        }
      ]
    },
    {
      "cell_type": "code",
      "source": [
        "from torch.utils.data import DataLoader\n",
        "\n",
        "dset_train = ANDDataset(num_samples=5000)\n",
        "dset_test = ANDDataset(num_samples=500)\n",
        "\n",
        "dloader_train = DataLoader(dset_train, batch_size = 50, shuffle=True)\n",
        "dloader_test = DataLoader(dset_test, batch_size = 50)"
      ],
      "metadata": {
        "id": "ew3wauy9eCpo"
      },
      "execution_count": null,
      "outputs": []
    },
    {
      "cell_type": "code",
      "source": [
        "batch = next(iter(dloader_train))\n",
        "points, label = batch\n",
        "points"
      ],
      "metadata": {
        "colab": {
          "base_uri": "https://localhost:8080/"
        },
        "id": "HZSvl7Z8eDD4",
        "outputId": "8ce90652-2c58-435c-b211-83027cff0b8f"
      },
      "execution_count": null,
      "outputs": [
        {
          "output_type": "execute_result",
          "data": {
            "text/plain": [
              "tensor([[ 1.0161,  0.0587],\n",
              "        [ 0.0938, -0.1407],\n",
              "        [ 0.1428,  1.1061],\n",
              "        [ 0.8236,  0.1152],\n",
              "        [-0.0565,  1.0059],\n",
              "        [ 0.9572,  0.8672],\n",
              "        [ 0.0521, -0.0762],\n",
              "        [ 1.2242,  0.0358],\n",
              "        [-0.0089, -0.1743],\n",
              "        [ 0.8249,  1.1059],\n",
              "        [-0.0031,  1.1601],\n",
              "        [ 1.0028,  0.9813],\n",
              "        [ 0.0142,  0.0490],\n",
              "        [ 1.1153,  0.9684],\n",
              "        [-0.0459, -0.0549],\n",
              "        [ 0.9810,  0.0820],\n",
              "        [-0.0766, -0.1179],\n",
              "        [ 1.0107, -0.1457],\n",
              "        [ 1.0580, -0.0112],\n",
              "        [ 0.8734,  1.0887],\n",
              "        [ 1.0359, -0.0723],\n",
              "        [ 1.0592,  0.0506],\n",
              "        [-0.0069,  0.9069],\n",
              "        [ 1.1664, -0.0339],\n",
              "        [ 1.1159,  0.8493],\n",
              "        [ 1.0075,  0.1358],\n",
              "        [ 0.9778,  0.0156],\n",
              "        [ 0.7763,  0.1836],\n",
              "        [ 0.8093,  0.0172],\n",
              "        [ 1.0762, -0.0419],\n",
              "        [-0.1108, -0.0153],\n",
              "        [ 0.9954,  0.9323],\n",
              "        [ 0.8972,  0.9933],\n",
              "        [ 0.0043,  0.9772],\n",
              "        [ 0.7504,  1.0706],\n",
              "        [ 0.0173, -0.0892],\n",
              "        [ 1.1159,  0.9827],\n",
              "        [ 0.0617, -0.0779],\n",
              "        [ 0.0656, -0.0125],\n",
              "        [ 1.0511,  1.0499],\n",
              "        [ 1.0499,  0.0677],\n",
              "        [ 0.0025,  0.9892],\n",
              "        [ 0.0997, -0.1468],\n",
              "        [ 0.0621,  1.1028],\n",
              "        [ 0.8415, -0.0212],\n",
              "        [ 0.8950,  0.0255],\n",
              "        [ 1.1972,  0.1712],\n",
              "        [-0.1169,  1.0517],\n",
              "        [ 0.9818,  0.9078],\n",
              "        [ 1.1211,  1.0279]])"
            ]
          },
          "metadata": {},
          "execution_count": 60
        }
      ]
    },
    {
      "cell_type": "code",
      "source": [
        "labels"
      ],
      "metadata": {
        "colab": {
          "base_uri": "https://localhost:8080/"
        },
        "id": "I0CoIhr0eFGm",
        "outputId": "565e5675-d690-4fe0-eb7c-d3f6f8d6de59"
      },
      "execution_count": null,
      "outputs": [
        {
          "output_type": "execute_result",
          "data": {
            "text/plain": [
              "tensor([1., 0., 0.,  ..., 0., 0., 0.])"
            ]
          },
          "metadata": {},
          "execution_count": 61
        }
      ]
    },
    {
      "cell_type": "code",
      "source": [
        "points.shape"
      ],
      "metadata": {
        "colab": {
          "base_uri": "https://localhost:8080/"
        },
        "id": "4NmpEpVleHm3",
        "outputId": "90341a2e-f260-423f-d624-ce978f60d9b6"
      },
      "execution_count": null,
      "outputs": [
        {
          "output_type": "execute_result",
          "data": {
            "text/plain": [
              "torch.Size([50, 2])"
            ]
          },
          "metadata": {},
          "execution_count": 62
        }
      ]
    },
    {
      "cell_type": "code",
      "source": [
        "labels.shape"
      ],
      "metadata": {
        "colab": {
          "base_uri": "https://localhost:8080/"
        },
        "id": "q1QumuIkeLeS",
        "outputId": "8e077b6d-a4bd-459a-deb7-3a28d6c1d1db"
      },
      "execution_count": null,
      "outputs": [
        {
          "output_type": "execute_result",
          "data": {
            "text/plain": [
              "torch.Size([5000])"
            ]
          },
          "metadata": {},
          "execution_count": 63
        }
      ]
    },
    {
      "cell_type": "code",
      "source": [
        "from tqdm import tqdm\n",
        "import time\n",
        "\n",
        "for idx, batch in enumerate(tqdm(dloader_train)):\n",
        "  time.sleep(0.1) "
      ],
      "metadata": {
        "colab": {
          "base_uri": "https://localhost:8080/"
        },
        "id": "UZb8SwTAepSk",
        "outputId": "7a1c61fb-5b78-4b39-9e03-abec05a7a591"
      },
      "execution_count": null,
      "outputs": [
        {
          "output_type": "stream",
          "name": "stderr",
          "text": [
            "100%|██████████| 100/100 [00:10<00:00,  9.76it/s]\n"
          ]
        }
      ]
    },
    {
      "cell_type": "code",
      "source": [
        "import torch.nn as nn \n",
        "import torch.nn.functional as F\n",
        "class MyModule(nn.Module):\n",
        "  def __init__(self):\n",
        "    super().__init__()\n",
        "\n",
        "  def forward(self, x):\n",
        "    return x"
      ],
      "metadata": {
        "id": "QtyuNUn8eriW"
      },
      "execution_count": null,
      "outputs": []
    },
    {
      "cell_type": "code",
      "source": [
        "class SimpleModel(nn.Module):\n",
        "  def __init__(self, input_dim, output_dim):\n",
        "    super(SimpleModel, self).__init__()\n",
        "    self.layer1 = torch.nn.Linear(in_features=input_dim, out_features=output_dim)  \n",
        "  def forward(self, x):\n",
        "    output = self.layer1(x) # Computes sum(w*x + b)\n",
        "    return output "
      ],
      "metadata": {
        "id": "_D0wIvXee1xZ"
      },
      "execution_count": null,
      "outputs": []
    },
    {
      "cell_type": "code",
      "source": [
        "net = SimpleModel(input_dim = 2, output_dim = 1)\n",
        "net"
      ],
      "metadata": {
        "colab": {
          "base_uri": "https://localhost:8080/"
        },
        "id": "1BUb4jzEe_7X",
        "outputId": "53ac2416-397c-496b-f5ed-918211123711"
      },
      "execution_count": null,
      "outputs": [
        {
          "output_type": "execute_result",
          "data": {
            "text/plain": [
              "SimpleModel(\n",
              "  (layer1): Linear(in_features=2, out_features=1, bias=True)\n",
              ")"
            ]
          },
          "metadata": {},
          "execution_count": 68
        }
      ]
    },
    {
      "cell_type": "code",
      "source": [
        "import torch.optim as optim\n",
        "optimizer = optim.SGD(net.parameters(), lr = 0.01)\n",
        "optimizer"
      ],
      "metadata": {
        "colab": {
          "base_uri": "https://localhost:8080/"
        },
        "id": "A24DCXa7fCQm",
        "outputId": "3a19d9db-84fc-43af-fb33-5fd97e06fa5d"
      },
      "execution_count": null,
      "outputs": [
        {
          "output_type": "execute_result",
          "data": {
            "text/plain": [
              "SGD (\n",
              "Parameter Group 0\n",
              "    dampening: 0\n",
              "    lr: 0.01\n",
              "    momentum: 0\n",
              "    nesterov: False\n",
              "    weight_decay: 0\n",
              ")"
            ]
          },
          "metadata": {},
          "execution_count": 70
        }
      ]
    },
    {
      "cell_type": "code",
      "source": [
        "criterion = nn.BCEWithLogitsLoss()\n",
        "criterion"
      ],
      "metadata": {
        "colab": {
          "base_uri": "https://localhost:8080/"
        },
        "id": "K404GYPufFBA",
        "outputId": "0ba8d77d-a8b5-4ee9-ab67-d0076b888b46"
      },
      "execution_count": null,
      "outputs": [
        {
          "output_type": "execute_result",
          "data": {
            "text/plain": [
              "BCEWithLogitsLoss()"
            ]
          },
          "metadata": {},
          "execution_count": 72
        }
      ]
    },
    {
      "cell_type": "code",
      "source": [
        "def train_model(model, optimizer, data_loader, loss_module, num_epochs = 100):\n",
        "    history_loss = []\n",
        "    \n",
        "    model.train()\n",
        "    for epoch in range(num_epochs):\n",
        "        sum_loss = 0\n",
        "      \n",
        "        for data_inputs, data_labels in data_loader:\n",
        "            preds = model(data_inputs) \n",
        "            preds = preds.squeeze(dim=1) \n",
        "            \n",
        "            loss = loss_module(preds, data_labels)\n",
        "            \n",
        "            sum_loss += loss.item()\n",
        "            \n",
        "            optimizer.zero_grad()\n",
        "\n",
        "            loss.backward()\n",
        "\n",
        "            optimizer.step()\n",
        "             \n",
        "        epoch_loss = sum_loss / len(data_loader)\n",
        "        \n",
        "        history_loss.append(epoch_loss)\n",
        "        \n",
        "        print(f\"Epoch {epoch+1}: TrL= {epoch_loss}\")\n",
        "        \n",
        "    plt.title(\"Loss\")\n",
        "    plt.plot(history_loss, label=\"train\")\n",
        "    plt.legend()\n",
        "    plt.show()\n",
        "\n"
      ],
      "metadata": {
        "id": "xmpa_RKyfd9n"
      },
      "execution_count": null,
      "outputs": []
    },
    {
      "cell_type": "code",
      "source": [
        "train_model(net, optimizer, dloader_train, criterion)"
      ],
      "metadata": {
        "colab": {
          "base_uri": "https://localhost:8080/",
          "height": 1000
        },
        "id": "RQ9ZoPf3fjK_",
        "outputId": "9e783a86-5e57-4dad-ff99-132b86a16835"
      },
      "execution_count": null,
      "outputs": [
        {
          "output_type": "stream",
          "name": "stdout",
          "text": [
            "Epoch 1: TrL= 0.6814174050092697\n",
            "Epoch 2: TrL= 0.653821827173233\n",
            "Epoch 3: TrL= 0.6285321205854416\n",
            "Epoch 4: TrL= 0.6052041524648666\n",
            "Epoch 5: TrL= 0.5836129885911941\n",
            "Epoch 6: TrL= 0.563568648993969\n",
            "Epoch 7: TrL= 0.5448930951952934\n",
            "Epoch 8: TrL= 0.5274993601441383\n",
            "Epoch 9: TrL= 0.5112611153721809\n",
            "Epoch 10: TrL= 0.49608590006828307\n",
            "Epoch 11: TrL= 0.4818771731853485\n",
            "Epoch 12: TrL= 0.4685484257340431\n",
            "Epoch 13: TrL= 0.4560381680727005\n",
            "Epoch 14: TrL= 0.44427767604589463\n",
            "Epoch 15: TrL= 0.43318275928497313\n",
            "Epoch 16: TrL= 0.42271762669086455\n",
            "Epoch 17: TrL= 0.41282984375953674\n",
            "Epoch 18: TrL= 0.4034819793701172\n",
            "Epoch 19: TrL= 0.39460687279701234\n",
            "Epoch 20: TrL= 0.3861926108598709\n",
            "Epoch 21: TrL= 0.37819510191679\n",
            "Epoch 22: TrL= 0.3705837163329124\n",
            "Epoch 23: TrL= 0.36332203418016434\n",
            "Epoch 24: TrL= 0.3564062437415123\n",
            "Epoch 25: TrL= 0.34979357808828354\n",
            "Epoch 26: TrL= 0.34346403539180753\n",
            "Epoch 27: TrL= 0.3374044480919838\n",
            "Epoch 28: TrL= 0.33160839408636095\n",
            "Epoch 29: TrL= 0.32602925777435304\n",
            "Epoch 30: TrL= 0.32067638501524925\n",
            "Epoch 31: TrL= 0.31553972586989404\n",
            "Epoch 32: TrL= 0.3105840349197388\n",
            "Epoch 33: TrL= 0.3058151096105576\n",
            "Epoch 34: TrL= 0.3012225306034088\n",
            "Epoch 35: TrL= 0.29679149702191354\n",
            "Epoch 36: TrL= 0.2925066889822483\n",
            "Epoch 37: TrL= 0.2883719006180763\n",
            "Epoch 38: TrL= 0.2843714089691639\n",
            "Epoch 39: TrL= 0.280497909784317\n",
            "Epoch 40: TrL= 0.2767568792402744\n",
            "Epoch 41: TrL= 0.2731230367720127\n",
            "Epoch 42: TrL= 0.2696049739420414\n",
            "Epoch 43: TrL= 0.26618779748678206\n",
            "Epoch 44: TrL= 0.2628770625591278\n",
            "Epoch 45: TrL= 0.2596577201783657\n",
            "Epoch 46: TrL= 0.25653025060892104\n",
            "Epoch 47: TrL= 0.2534896260499954\n",
            "Epoch 48: TrL= 0.25053291201591493\n",
            "Epoch 49: TrL= 0.24765447407960892\n",
            "Epoch 50: TrL= 0.2448558108508587\n",
            "Epoch 51: TrL= 0.24212443232536315\n",
            "Epoch 52: TrL= 0.23946547165513038\n",
            "Epoch 53: TrL= 0.23687277898192405\n",
            "Epoch 54: TrL= 0.23434706121683122\n",
            "Epoch 55: TrL= 0.23188187733292578\n",
            "Epoch 56: TrL= 0.22947257578372957\n",
            "Epoch 57: TrL= 0.22711898148059845\n",
            "Epoch 58: TrL= 0.22482815101742745\n",
            "Epoch 59: TrL= 0.222582728266716\n",
            "Epoch 60: TrL= 0.22039171531796456\n",
            "Epoch 61: TrL= 0.21824700117111206\n",
            "Epoch 62: TrL= 0.21615049690008165\n",
            "Epoch 63: TrL= 0.2141021704673767\n",
            "Epoch 64: TrL= 0.21209695875644685\n",
            "Epoch 65: TrL= 0.2101297700405121\n",
            "Epoch 66: TrL= 0.20820751309394836\n",
            "Epoch 67: TrL= 0.2063235169649124\n",
            "Epoch 68: TrL= 0.20447610050439835\n",
            "Epoch 69: TrL= 0.20266528472304343\n",
            "Epoch 70: TrL= 0.2008933247625828\n",
            "Epoch 71: TrL= 0.1991585810482502\n",
            "Epoch 72: TrL= 0.19745309695601462\n",
            "Epoch 73: TrL= 0.19578252956271172\n",
            "Epoch 74: TrL= 0.19414184227585793\n",
            "Epoch 75: TrL= 0.1925324611365795\n",
            "Epoch 76: TrL= 0.19095290020108224\n",
            "Epoch 77: TrL= 0.18940348267555238\n",
            "Epoch 78: TrL= 0.18787803649902343\n",
            "Epoch 79: TrL= 0.18638236463069915\n",
            "Epoch 80: TrL= 0.18491518273949623\n",
            "Epoch 81: TrL= 0.18347246706485748\n",
            "Epoch 82: TrL= 0.1820550486445427\n",
            "Epoch 83: TrL= 0.18065814629197122\n",
            "Epoch 84: TrL= 0.1792893750965595\n",
            "Epoch 85: TrL= 0.17794071912765502\n",
            "Epoch 86: TrL= 0.1766153982281685\n",
            "Epoch 87: TrL= 0.17531101077795028\n",
            "Epoch 88: TrL= 0.17403149046003819\n",
            "Epoch 89: TrL= 0.17276852056384087\n",
            "Epoch 90: TrL= 0.17152956888079643\n",
            "Epoch 91: TrL= 0.17030859872698784\n",
            "Epoch 92: TrL= 0.16910420179367067\n",
            "Epoch 93: TrL= 0.16792311921715736\n",
            "Epoch 94: TrL= 0.16675724260509014\n",
            "Epoch 95: TrL= 0.16560805335640907\n",
            "Epoch 96: TrL= 0.16447694927453996\n",
            "Epoch 97: TrL= 0.1633641903102398\n",
            "Epoch 98: TrL= 0.1622694903612137\n",
            "Epoch 99: TrL= 0.16118699848651885\n",
            "Epoch 100: TrL= 0.16012250266969205\n"
          ]
        },
        {
          "output_type": "display_data",
          "data": {
            "text/plain": [
              "<Figure size 432x288 with 1 Axes>"
            ],
            "image/png": "[encoded data removed]"
          },
          "metadata": {
            "needs_background": "light"
          }
        }
      ]
    },
    {
      "cell_type": "code",
      "source": [
        "def eval_model(model, data_loader):\n",
        "    model.eval() \n",
        "    true_preds, num_preds = 0., 0.\n",
        "\n",
        "    with torch.no_grad(): \n",
        "        for data_inputs, data_labels in data_loader:\n",
        "\n",
        "            preds = model(data_inputs)\n",
        "            preds = preds.squeeze(dim=1)\n",
        "            preds = torch.sigmoid(preds) \n",
        "            pred_labels = (preds >= 0.5).long() \n",
        "            true_preds += (pred_labels == data_labels).sum()\n",
        "            num_preds += data_labels.shape[0]\n",
        "\n",
        "    acc = true_preds / num_preds\n",
        "    print(\"Accuracy of the model: %4.2f%%\" % (100.0*acc))"
      ],
      "metadata": {
        "id": "fSprwBvqf6ks"
      },
      "execution_count": null,
      "outputs": []
    },
    {
      "cell_type": "code",
      "source": [
        "eval_model(net, dloader_test)"
      ],
      "metadata": {
        "colab": {
          "base_uri": "https://localhost:8080/"
        },
        "id": "qWTTTiCHgF9r",
        "outputId": "bae6e23b-1301-4f51-9b65-bfa8ae8b65a3"
      },
      "execution_count": null,
      "outputs": [
        {
          "output_type": "stream",
          "name": "stdout",
          "text": [
            "Accuracy of the model: 100.00%\n"
          ]
        }
      ]
    }
  ]
}