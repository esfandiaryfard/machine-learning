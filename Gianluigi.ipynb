{
  "nbformat": 4,
  "nbformat_minor": 0,
  "metadata": {
    "colab": {
      "name": "Untitled0.ipynb",
      "provenance": [],
      "collapsed_sections": [],
      "authorship_tag": "ABX9TyP5o0dU7QEUizvjnLoWzmQn",
      "include_colab_link": true
    },
    "kernelspec": {
      "name": "python3",
      "display_name": "Python 3"
    },
    "language_info": {
      "name": "python"
    }
  },
  "cells": [
    {
      "cell_type": "markdown",
      "metadata": {
        "id": "view-in-github",
        "colab_type": "text"
      },
      "source": [
        "<a href=\"https://colab.research.google.com/github/esfandiaryfard/machine-learning/blob/main/Gianluigi.ipynb\" target=\"_parent\"><img src=\"https://colab.research.google.com/assets/colab-badge.svg\" alt=\"Open In Colab\"/></a>"
      ]
    },
    {
      "cell_type": "code",
      "source": [
        "import torch"
      ],
      "metadata": {
        "id": "gO68Eqq2bbFv"
      },
      "execution_count": null,
      "outputs": []
    },
    {
      "cell_type": "code",
      "execution_count": null,
      "metadata": {
        "colab": {
          "base_uri": "https://localhost:8080/"
        },
        "id": "8-i9ri2GbYAR",
        "outputId": "86315f8c-62cf-45e5-eff2-1b16e8a0ef91"
      },
      "outputs": [
        {
          "output_type": "stream",
          "name": "stdout",
          "text": [
            "l is a list [0, 1, 2, 3, 4]\n",
            "x is a tensor:\n",
            " tensor([0, 1, 2, 3, 4])\n"
          ]
        }
      ],
      "source": [
        "l = [x for x in range(0,5)]\n",
        "print (\"l is a list\",l)\n",
        "x = torch.tensor(l)\n",
        "print(\"x is a tensor:\\n\",x)  #tensor is a multidimensional array"
      ]
    },
    {
      "cell_type": "code",
      "source": [
        "y= torch.ones(2,3,dtype=torch.float16) * 1.5 #moltiplito tutto per 1.5\n",
        "y"
      ],
      "metadata": {
        "colab": {
          "base_uri": "https://localhost:8080/"
        },
        "id": "AFmMceEod-5m",
        "outputId": "5fabb4b5-ccf2-409d-eded-62333c4af768"
      },
      "execution_count": null,
      "outputs": [
        {
          "output_type": "execute_result",
          "data": {
            "text/plain": [
              "tensor([[1.5000, 1.5000, 1.5000],\n",
              "        [1.5000, 1.5000, 1.5000]], dtype=torch.float16)"
            ]
          },
          "metadata": {},
          "execution_count": 59
        }
      ]
    },
    {
      "cell_type": "code",
      "source": [
        "y.shape"
      ],
      "metadata": {
        "colab": {
          "base_uri": "https://localhost:8080/"
        },
        "id": "yKtj0KTfelIK",
        "outputId": "0ca5945d-2e7f-4b4a-ed5a-19d64a5fed66"
      },
      "execution_count": null,
      "outputs": [
        {
          "output_type": "execute_result",
          "data": {
            "text/plain": [
              "torch.Size([2, 3])"
            ]
          },
          "metadata": {},
          "execution_count": 60
        }
      ]
    },
    {
      "cell_type": "code",
      "source": [
        "#we define a tensor and then we can move on numpy VEDI CODICE\n"
      ],
      "metadata": {
        "id": "jRA7UZV3fcoA"
      },
      "execution_count": null,
      "outputs": []
    },
    {
      "cell_type": "code",
      "source": [
        "#tensor manipulation\n",
        "y = torch.ones(2,3) # we have a tensor of 2 * 3 dimension\n",
        "y.shape\n",
        "y_unsqueezed = y.unsqueeze(dim = 0) # qui sto aggiungendo una nuova dimensione, dove? nella posizione 0\n",
        "y_unsqueezed.shape  # 3D tensor  now we have a third dimension tensor \n",
        "\n",
        "\n",
        "# squeeze by default remove the dimensions of 1 because they are meaningless (or they can be)\n",
        "# la funzione squeeze applica soltanto modifiche temporali, se voglio aggiornare la variabile applico squeeze_ "
      ],
      "metadata": {
        "colab": {
          "base_uri": "https://localhost:8080/"
        },
        "id": "Aloz4-sUfvP9",
        "outputId": "26183df9-4835-4c51-81af-50cb1682b2b3"
      },
      "execution_count": null,
      "outputs": [
        {
          "output_type": "execute_result",
          "data": {
            "text/plain": [
              "torch.Size([1, 2, 3])"
            ]
          },
          "metadata": {},
          "execution_count": 62
        }
      ]
    },
    {
      "cell_type": "code",
      "source": [
        "# its better use reshape if we want to reshape the tensor, posso applicare anche una view ma crea problemi "
      ],
      "metadata": {
        "id": "a72TV2uVkvov"
      },
      "execution_count": null,
      "outputs": []
    },
    {
      "cell_type": "code",
      "source": [
        "#permutation \n",
        "# y= x.permute(1,2,3) in questo caso sto dicendo: metti in posizione 1 - 1 , in posizione 2 - 2 , in pos 3 - 3 . quindi non cambia nulla qui"
      ],
      "metadata": {
        "id": "JqRSa8sknNik"
      },
      "execution_count": null,
      "outputs": []
    },
    {
      "cell_type": "code",
      "source": [
        "#concatenation RICORDA che se voglio concatenare 2 tensor, le dimensioni devono essere le stesse\n",
        "x= torch.rand(2,3)\n",
        "y= torch.cat([x,x,x],0)   #praticamente concateni una 2 * 3 --> 3 volte\n",
        "y "
      ],
      "metadata": {
        "colab": {
          "base_uri": "https://localhost:8080/"
        },
        "id": "MsO5zTMonxFu",
        "outputId": "933afa95-1a68-4ecf-c4a0-810241f0d2db"
      },
      "execution_count": null,
      "outputs": [
        {
          "output_type": "execute_result",
          "data": {
            "text/plain": [
              "tensor([[0.5406, 0.8321, 0.1076],\n",
              "        [0.6255, 0.2910, 0.9628],\n",
              "        [0.5406, 0.8321, 0.1076],\n",
              "        [0.6255, 0.2910, 0.9628],\n",
              "        [0.5406, 0.8321, 0.1076],\n",
              "        [0.6255, 0.2910, 0.9628]])"
            ]
          },
          "metadata": {},
          "execution_count": 65
        }
      ]
    },
    {
      "cell_type": "code",
      "source": [
        "# Esempio creazione di un modello AND in cui ritorna 1 solo se entrambi sono 1\n",
        "num_samples = 5000    #sotto size rappresenta la dimensione dei dati, ovvero 5000 righe e 2 colonne che possono assumere solo 0 e 1\n",
        "data = torch.randint (low= 0 , high=2, size= (num_samples,2), dtype= torch.float32 )  # creo solo valori con minimo 0 e max 2 non incluso quindi 1\n",
        "data  # ho generato 5000 righe e 2 colonne con valori random 0 - 1\n"
      ],
      "metadata": {
        "colab": {
          "base_uri": "https://localhost:8080/"
        },
        "id": "Sq4GRqDDQNMp",
        "outputId": "7b9e3685-fac3-444e-b680-08d1b3648e40"
      },
      "execution_count": null,
      "outputs": [
        {
          "output_type": "execute_result",
          "data": {
            "text/plain": [
              "tensor([[0., 0.],\n",
              "        [1., 0.],\n",
              "        [1., 1.],\n",
              "        ...,\n",
              "        [1., 0.],\n",
              "        [1., 1.],\n",
              "        [1., 0.]])"
            ]
          },
          "metadata": {},
          "execution_count": 66
        }
      ]
    },
    {
      "cell_type": "code",
      "source": [
        "labels = (data.sum(dim=1) == 2).to(torch.float32) # in generale se la somma dei due valori è uno tornami 1 altrimenti 0\n",
        "#labelsprova = data.sum(dim=1) ==2   # questo in pratica ritorna un true/ false condition e dopo attraverso to(torch.float32) viene convertito in float\n",
        "# come lavora? IN SOSTANZA è UN IF :esso fa la somma di dim=1 ovvero della prima dimensione che corrisponde alle righe, quindi per ogni riga fa la sommatoria delle 2 colonne\n",
        "# dal momento che siamo nel AND e quindi l'output è 1 solo se entrambi i valori X1 e X2 sono 1, per avere output 1 la sommma deve essere NECESSARIAMENTE 2\n",
        "# e quindi se la somma delle due colonne in ogni riga mi da 2 ALLORA MI DAI TRUE ALTRIMENTI FALSE e questo TRUE viene poi trasformato in floating in cui true=1\n",
        "\n",
        "labels"
      ],
      "metadata": {
        "colab": {
          "base_uri": "https://localhost:8080/"
        },
        "id": "dTgtirEzrjpT",
        "outputId": "e9261cd9-9b42-4327-dd7e-d03e73ea1ca3"
      },
      "execution_count": null,
      "outputs": [
        {
          "output_type": "execute_result",
          "data": {
            "text/plain": [
              "tensor([0., 0., 1.,  ..., 0., 1., 0.])"
            ]
          },
          "metadata": {},
          "execution_count": 67
        }
      ]
    },
    {
      "cell_type": "code",
      "source": [
        "# Print the first 10 elements of data and their corresponding labels\n",
        "for i in range(10):\n",
        "  print(f\"x: {data[i]}, label: {labels[i]}\")"
      ],
      "metadata": {
        "colab": {
          "base_uri": "https://localhost:8080/"
        },
        "id": "whUhiUtYrssT",
        "outputId": "de3080fa-022a-4e4d-c238-204d550a642a"
      },
      "execution_count": null,
      "outputs": [
        {
          "output_type": "stream",
          "name": "stdout",
          "text": [
            "x: tensor([0., 0.]), label: 0.0\n",
            "x: tensor([1., 0.]), label: 0.0\n",
            "x: tensor([1., 1.]), label: 1.0\n",
            "x: tensor([0., 1.]), label: 0.0\n",
            "x: tensor([0., 0.]), label: 0.0\n",
            "x: tensor([1., 0.]), label: 0.0\n",
            "x: tensor([1., 1.]), label: 1.0\n",
            "x: tensor([0., 0.]), label: 0.0\n",
            "x: tensor([0., 1.]), label: 0.0\n",
            "x: tensor([0., 0.]), label: 0.0\n"
          ]
        }
      ]
    },
    {
      "cell_type": "code",
      "source": [
        "# Add some random noise to each sample e quindi FOR EACH POINT fai questo\n",
        "data += 0.1 * torch.randn(data.shape)\n",
        "# torch.randn è una funzione di torch che prende valori random da una distribuzione with mean 0 and sd=1, "
      ],
      "metadata": {
        "id": "fHqNuIoE1ukR"
      },
      "execution_count": null,
      "outputs": []
    },
    {
      "cell_type": "code",
      "source": [
        "for i in range(10):\n",
        "  print(f\"x: {data[i]}, label: {labels[i]}\")"
      ],
      "metadata": {
        "colab": {
          "base_uri": "https://localhost:8080/"
        },
        "id": "mWagOH7g2C-e",
        "outputId": "bd19fa93-8f07-448e-dc96-f4f498c345ee"
      },
      "execution_count": null,
      "outputs": [
        {
          "output_type": "stream",
          "name": "stdout",
          "text": [
            "x: tensor([-0.1068, -0.0222]), label: 0.0\n",
            "x: tensor([ 1.0082, -0.0986]), label: 0.0\n",
            "x: tensor([1.0716, 1.1274]), label: 1.0\n",
            "x: tensor([-0.0296,  1.0269]), label: 0.0\n",
            "x: tensor([-0.0671,  0.1359]), label: 0.0\n",
            "x: tensor([ 1.2463, -0.0045]), label: 0.0\n",
            "x: tensor([0.9488, 0.8982]), label: 1.0\n",
            "x: tensor([-0.1006, -0.0277]), label: 0.0\n",
            "x: tensor([0.0693, 0.8169]), label: 0.0\n",
            "x: tensor([-0.0441, -0.0831]), label: 0.0\n"
          ]
        }
      ]
    },
    {
      "cell_type": "code",
      "source": [
        "# Plot the AND dataset i BLUE sono gli zeroes, senza noise abbiamo solo 4 punti\n",
        "import matplotlib.pyplot as plt\n",
        "plt.scatter(data[:,0], data[:,1], c = labels, cmap = \"jet\")\n",
        "plt.show()\n",
        "# possiamo vedere che la classificazione puo essere fatta mediante una LINEA che permette di separare i valori in blue da quelli in rosso"
      ],
      "metadata": {
        "colab": {
          "base_uri": "https://localhost:8080/",
          "height": 265
        },
        "id": "r3pil4Sc2QsS",
        "outputId": "c5952a39-7725-4e4c-ae24-b5f2fa777deb"
      },
      "execution_count": null,
      "outputs": [
        {
          "output_type": "display_data",
          "data": {
            "text/plain": [
              "<Figure size 432x288 with 1 Axes>"
            ],
            "image/png": "[encoded data removed]"
          },
          "metadata": {
            "needs_background": "light"
          }
        }
      ]
    },
    {
      "cell_type": "code",
      "source": [
        "# qui genero soltanto i dati, non è il Dataset, per crearlo devo creare una classe Dataset che faremo dopo\n",
        "def generate_and_dataset(num_samples):   #ho definito una UNICA FUNZIONE per creare il dataset AND LOGIC inserendo tutte le funzioni definite prima\n",
        "  data = torch.randint(low = 0 , high = 2, size=(num_samples,2), dtype=torch.float32) #definito prima\n",
        "  labels = (data.sum(dim=1) == 2).to(torch.float32)    #definito prima\n",
        "  data += 0.1 * torch.randn(data.shape)    #definito prima\n",
        "  return data, labels\n",
        "  #passo alla funzione un campione di 5000 elementi e mi ritorini i dati e le labels"
      ],
      "metadata": {
        "id": "pKIA380_2bZ4"
      },
      "execution_count": null,
      "outputs": []
    },
    {
      "cell_type": "markdown",
      "source": [
        "PyTorch provide us the class `Dataset`, with which we can use existing datasets, or create a new one. \n",
        "\n",
        "If we want to create our custom Dataset, we must implement three functions:\n",
        "*   __init__ : it is run when instantiating the Dataset object.\n",
        "*   __len__ : returns the number of samples of our dataset.\n",
        "*   __getitem__ : returns a sample of the dataset given an index. \n"
      ],
      "metadata": {
        "id": "GqlL9lyV3m36"
      }
    },
    {
      "cell_type": "code",
      "source": [
        "from torch.utils.data import Dataset\n",
        "# qui creo la CLASSE (non il dataset che poi creerò dopo)\n",
        "class ANDDataset(Dataset):   #qui praticamente ho creato un OGGETTO Dataset che chiamo ANDDataset che ha come parametri SELF ed il num di campione\n",
        "  def __init__(self, num_samples = 5000):\n",
        "    super().__init__()  # it's a standard when we create a Class Object\n",
        "\n",
        "    self.size = num_samples  # Dataset ha dimensione 5000 con self.size\n",
        "    self.data, self.labels = generate_and_dataset(self.size)   # questi valori sono OBBLIGATORI in quanto corrispondono ai parametri di INPUT ed alla TARGET VARIABLE\n",
        "      #quindi ogni volta che ho un dataset (che sto creando)avrò un self.data ed un self.labels\n",
        "\n",
        "      \n",
        "  def __len__(self):  # per essere un dataset in PYTORCH devo definire anche questa funzione in cui torno la size dell'Oggetto \n",
        "    # Number of data point we have.\n",
        "    return self.size # len(self.data)\n",
        "\n",
        "  def __getitem__(self, idx):    # è un'altra parte che deve essere scritta esattamente in questo modo, riceve self che è l'oggetto, mentre idx punta ad ogni elemento del dataset\n",
        "    # Return the idx-th data point of the dataset\n",
        "    # If we have multiple things to return (e.g., data point and label), we can return them as tuple\n",
        "    data_point = self.data[idx]    # quindi idx mi ritorna l'elemento iesimo\n",
        "    data_label = self.labels[idx]   # ed il label iesimo\n",
        "    return data_point, data_label"
      ],
      "metadata": {
        "id": "qL_HJOOU3pFz"
      },
      "execution_count": null,
      "outputs": []
    },
    {
      "cell_type": "code",
      "source": [
        "and_dataset = ANDDataset(num_samples = 5000) #qui richiamo la classe ANDDataset per creare il DATASET passandogli l'unico parametro che richiede\n",
        "# da notare che self è presente in ogni classe e non rappresenta un parametro dell'oggetto\n",
        "# quindi and_dataset rappresenterà il mio dataset : IL MIO PYTORCH DATASET\n",
        "len(and_dataset) # this instruction calls the __len__ function e possiamo vedere la dimensione del dataset (è solo un esempio per vedere se funziona)"
      ],
      "metadata": {
        "colab": {
          "base_uri": "https://localhost:8080/"
        },
        "id": "_o6WLyYPG7wm",
        "outputId": "948af03d-4666-4637-cbe1-cb72daed150d"
      },
      "execution_count": null,
      "outputs": [
        {
          "output_type": "execute_result",
          "data": {
            "text/plain": [
              "5000"
            ]
          },
          "metadata": {},
          "execution_count": 74
        }
      ]
    },
    {
      "cell_type": "code",
      "source": [
        "# We can use and_dataset similarly to an array QUI STO FACENDO VEDERE CHE posso richiamare il dataset come un array \n",
        "# Print the first element of the dataset  \n",
        "point, label = and_dataset[0]  # questo avviene attraverso la funzione get_item che torna 2 elementi\n",
        "print(\"Point:\", point)\n",
        "print(\"Label:\", label)"
      ],
      "metadata": {
        "colab": {
          "base_uri": "https://localhost:8080/"
        },
        "id": "2O0YNS5nIOsZ",
        "outputId": "fd9659ab-6615-432c-a923-a2be63946957"
      },
      "execution_count": null,
      "outputs": [
        {
          "output_type": "stream",
          "name": "stdout",
          "text": [
            "Point: tensor([-0.0805, -0.0708])\n",
            "Label: tensor(0.)\n"
          ]
        }
      ]
    },
    {
      "cell_type": "markdown",
      "source": [
        "The class torch.utils.data.DataLoader represents a Python iterable over a dataset. The data loader communicates with the dataset using the function getitem, and stacks its outputs as tensors over the first dimension to form a batch. In contrast to the dataset class, we usually don’t have to define our own data loader class, but can just create an object of it with the dataset as input. We can configure our data loader with the following input arguments:\n",
        "\n",
        "- batch_size: number of samples to stack in a batch\n",
        "- shuffle: if True, the data is returned in a random order. This is important during training for introducing stochasticity.\n",
        "- drop_last: if True, the last batch is dropped in case it is smaller than the specified batch size. This occurs when the dataset size is not a multiple of the batch size."
      ],
      "metadata": {
        "id": "EbS7UTwzLNMn"
      }
    },
    {
      "cell_type": "code",
      "source": [
        "from torch.utils.data import DataLoader  #data loader permette di leggere i dati, che non sono letti 1-1 ma di solito sono raggruppati in Batch, ovvero in \n",
        "# campioni di n elementi \n",
        "\n",
        "#avendo creato la funzione ANDDataset posso passare un campione che voglio per generarmi il training ed il test\n",
        "dset_train = ANDDataset(num_samples = 5000)  #qui creo il training set\n",
        "dset_test = ANDDataset(num_samples = 500)    #qui creo il test set\n",
        "\n",
        "dloader_train = DataLoader(dset_train, batch_size = 50, shuffle=True) #DataLoader prende come input ALMENO un input: dset_train, e poi qui anche batch_size e shuffle\n",
        "dloader_test = DataLoader(dset_test, batch_size = 50)  #shuffle permette di rimescolare i dati per creare i batch, nel test non ha senso avere shuffle= true"
      ],
      "metadata": {
        "id": "M_m3tRRqf_Ch"
      },
      "execution_count": null,
      "outputs": []
    },
    {
      "cell_type": "code",
      "source": [
        "# Get the first batch from the data_loader\n",
        "batch = next(iter(dloader_train)) #qui \"iter\" crea un'iterazione del data loader, mentre NEXT permette di leggere il batch successivo\n",
        "points, labels = batch\n",
        "print(points.shape)  #vedo che è un batch di 50 elementi e due colonne x1 ed x2\n",
        "print(labels.shape) #qui avrò solo 50 righe che rappresentano le labels\n",
        "print(labels[0]) # qui stampo il primo label, 1 di 50 elementi del batch"
      ],
      "metadata": {
        "colab": {
          "base_uri": "https://localhost:8080/"
        },
        "id": "R8Vb-THAjfqd",
        "outputId": "959053ac-e188-48a1-b6ce-869a990989cb"
      },
      "execution_count": null,
      "outputs": [
        {
          "output_type": "stream",
          "name": "stdout",
          "text": [
            "torch.Size([50, 2])\n",
            "torch.Size([50])\n",
            "tensor(0.)\n"
          ]
        }
      ]
    },
    {
      "cell_type": "code",
      "source": [
        "# STIAMO SIMULANDO UN'ITERAZIONE SUI BATCH : OGNI VOLTA PRENDE UN BATCH E FAI QUALCOSA (in questo caso non fa nulla)\n",
        "# QUESTA OPERAZIONE è CIò CHE AVVIENE NELLE \"EPOCHS\"\n",
        "# An example of how to iterate over a dataset with a DataLoader \n",
        "from tqdm import tqdm  #tqdm viene usato solo per generare un BAR progressiva\n",
        "# if used with an iterable, tqdm shows a progress bar when we execute the code.\n",
        "\n",
        "import time\n",
        "# The time module provides various time-related functions.\n",
        "\n",
        "for idx, batch in enumerate(tqdm(dloader_train)):\n",
        "  time.sleep(0.1) # as instance, in this for loop we can put the training code"
      ],
      "metadata": {
        "colab": {
          "base_uri": "https://localhost:8080/"
        },
        "id": "_POTA_3Bjl71",
        "outputId": "d22a90bb-96a8-475f-908c-b23e7c857f0c"
      },
      "execution_count": null,
      "outputs": [
        {
          "output_type": "stream",
          "name": "stderr",
          "text": [
            "100%|██████████| 100/100 [00:10<00:00,  9.59it/s]\n"
          ]
        }
      ]
    },
    {
      "cell_type": "markdown",
      "source": [
        "**Model Creation**\n",
        "\n",
        "\n"
      ],
      "metadata": {
        "id": "8WZH_TlARx75"
      }
    },
    {
      "cell_type": "markdown",
      "source": [
        "In Pytorch, a neural network is made by modules. A module can contain other modules. A neural network is considered a module it self.\n",
        "\n",
        "To create a neural network, we create a class that inherits from:"
      ],
      "metadata": {
        "id": "XHxq7vJOVby0"
      }
    },
    {
      "cell_type": "code",
      "source": [
        "torch.nn.Module\n"
      ],
      "metadata": {
        "colab": {
          "base_uri": "https://localhost:8080/"
        },
        "id": "iZsX2cgwjt64",
        "outputId": "aa58f939-2ee1-4545-9fe9-9609d3806939"
      },
      "execution_count": null,
      "outputs": [
        {
          "output_type": "execute_result",
          "data": {
            "text/plain": [
              "torch.nn.modules.module.Module"
            ]
          },
          "metadata": {},
          "execution_count": 79
        }
      ]
    },
    {
      "cell_type": "code",
      "source": [
        "import torch.nn as nn \n",
        "import torch.nn.functional as F\n",
        "class MyModule(nn.Module):\n",
        "\n",
        "  #Constructor\n",
        "  def __init__(self):  #questa è la mia classe (come prima ho creato la classe AND)\n",
        "\n",
        "    super().__init__()  #come prima creo una funzione \"_init_\"  che crea il modello\n",
        "    # Define some attributes of the module\n",
        "\n",
        "  #Forward  questa funzione invece definisce COME I DATI SCORRONO da un layer ad un altro, dato un input COME essi vanno ATTRAVERSO LA MIA RETE\n",
        "  def forward(self, x): \n",
        "    # Perform some computation\n",
        "    return x"
      ],
      "metadata": {
        "id": "1DEmKHFLkQtk"
      },
      "execution_count": null,
      "outputs": []
    },
    {
      "cell_type": "markdown",
      "source": [
        "In the init function we usually define the parameters and the layers of the module, or we define other modules that are used in the forward function.\n",
        "\n",
        "Training a neural network happens in two steps:\n",
        "\n",
        "forward propagation: in the forward prop, the neural network makes it best guess about the correct output. It runs the input data through of its layers to make this guess.\n",
        "backward propagation: in the backward prop, the neural network adjusts its parameters proportionate to the error in its guess.\n",
        "The forward function is where the computation of the model happens. The backward calculation is done \"automatically\"."
      ],
      "metadata": {
        "id": "glxAQeeSWQPA"
      }
    },
    {
      "cell_type": "markdown",
      "source": [
        ""
      ],
      "metadata": {
        "id": "WmYeayi7WPnX"
      }
    },
    {
      "cell_type": "code",
      "source": [
        "class SimpleModel(nn.Module):\n",
        "  # Constructor\n",
        "  def __init__(self, input_dim, output_dim):\n",
        "    super(SimpleModel, self).__init__()\n",
        "    self.layer1 = torch.nn.Linear(in_features=input_dim, out_features=output_dim)\n",
        "# qui creo 1 livello con 1 neurone, torch.nn.Linear permette di creare una classificazione Lineare, gli passo: \"quanti input e quanti output devo avere\"\n",
        "  \n",
        "  #se avessi avuto piu livelli ad esempio 2:\n",
        "  # creavo un self.layer2=.... e poi sotto:\n",
        "  #forward \n",
        "  def forward(self, x):\n",
        "    output = self.layer1(x) # Computes sum(w*x + b) questo definisce quanto entra nel neurone: il peso di x + il bias, quindi come abbiamo detto \n",
        "    #forward definisce cosa passa nel flusso: prendi il mio input (che è x ) e lo fai passare dal layer1\n",
        "\n",
        "    #creando 2 layer\n",
        "    #avrei dovuto mettere :\n",
        "    #x = self.layer1(x)\n",
        "    #output=self.layer2(x)\n",
        "    return output "
      ],
      "metadata": {
        "id": "Ey2vTKRqkmen"
      },
      "execution_count": null,
      "outputs": []
    },
    {
      "cell_type": "code",
      "source": [
        "# Create the model\n",
        "net = SimpleModel(input_dim = 2, output_dim = 1) # net contiene il modello\n",
        "# nel nostro esempio abbiamo solo 1 neurone, ecco perche è sufficiente una sola rete con 2 input ed 1 output\n",
        "# NOTA: SE AVESSIMO AVUTO PIU LIVELLI AVREMMO DOVUTO CREARE PIU NET, NET1,NET2,..."
      ],
      "metadata": {
        "id": "jQgiZaX8u28r"
      },
      "execution_count": null,
      "outputs": []
    },
    {
      "cell_type": "code",
      "source": [
        "# Print the model\n",
        "print(net)"
      ],
      "metadata": {
        "colab": {
          "base_uri": "https://localhost:8080/"
        },
        "id": "Ug2DvznAu5L8",
        "outputId": "e57c180a-b53d-4ee3-aeb3-e99017e3d5fb"
      },
      "execution_count": null,
      "outputs": [
        {
          "output_type": "stream",
          "name": "stdout",
          "text": [
            "SimpleModel(\n",
            "  (layer1): Linear(in_features=2, out_features=1, bias=True)\n",
            ")\n"
          ]
        }
      ]
    },
    {
      "cell_type": "markdown",
      "source": [
        "**The Optimizer**"
      ],
      "metadata": {
        "id": "KyE9NKbxWex7"
      }
    },
    {
      "cell_type": "markdown",
      "source": [
        "For updating the parameters of the net, PyTorch provides the **package torch**.optim. For now we use the Stocasting Gradient Descent, that updates the parameters by multiplying the gradients with a small constant, called **learning rate**."
      ],
      "metadata": {
        "id": "QE7DtNw3WsL8"
      }
    },
    {
      "cell_type": "code",
      "source": [
        "import torch.optim as optim\n",
        "optimizer = optim.SGD(net.parameters(), lr = 0.01)  #.parameters permette di considerare i parametri in cui the Optimizer deve aggiornare i PESI"
      ],
      "metadata": {
        "id": "EEIp4UALu8fC"
      },
      "execution_count": null,
      "outputs": []
    },
    {
      "cell_type": "markdown",
      "source": [
        "The optimizer provides us two very usefull functions:\n",
        "\n",
        "* optimizer.step() updates the model parameters (weights) based on the gradient \n",
        "values.\n",
        "* optimizer.zero_grad() sets the gradients of all paramters to zero.\n"
      ],
      "metadata": {
        "id": "Q4sot4dAWy-V"
      }
    },
    {
      "cell_type": "markdown",
      "source": [
        "**The Loss**\n",
        "For binary classification, we ca use the Binary Cross Entropy (BCE) Loss.\n",
        "\n",
        "As BCE loss expects all inputs are in the range  [0,1]  , we will use BCEWithLogitsLoss, which first applies a sigmoid function to the inputs."
      ],
      "metadata": {
        "id": "2cA9ssEmW3SX"
      }
    },
    {
      "cell_type": "code",
      "source": [
        "# Define a loss function criterion== loss\n",
        "criterion = nn.BCEWithLogitsLoss()  #BINARY CROSS ENTROPY with logits for binary classification,"
      ],
      "metadata": {
        "id": "xAzmRh5zvFeA"
      },
      "execution_count": null,
      "outputs": []
    },
    {
      "cell_type": "markdown",
      "source": [
        "**Train the net**"
      ],
      "metadata": {
        "id": "j2av1wQCW-Bw"
      }
    },
    {
      "cell_type": "code",
      "source": [
        "def train_model(model, optimizer, data_loader, loss_module, num_epochs = 100):\n",
        "    history_loss = []  #questo è per salvare\n",
        "    \n",
        "    model.train()\n",
        "    # Training loop\n",
        "    for epoch in range(num_epochs):   \n",
        "        # Initialize epoch variables\n",
        "        sum_loss = 0\n",
        "      \n",
        "        for data_inputs, data_labels in data_loader:  #data loader crea i batches, ecco perche itero qui: data loadre: give me the x and the y\n",
        "            ## Step 1: Run the model on the input data\n",
        "            preds = model(data_inputs) # This will execute the forward function of model class, QUINDI QUESTO RICHIAMA LA FUNZIONE FORWARD\n",
        "            preds = preds.squeeze(dim=1) # Output shape is [Batch size, 1], but we want [Batch size]\n",
        "            \n",
        "            #GIVEN THE PREDICTION WE CALCULATE THE LOSS\n",
        "            ## Step 2: Calculate the loss\n",
        "            loss = loss_module(preds, data_labels)\n",
        "            \n",
        "            sum_loss += loss.item()\n",
        "            \n",
        "            ## Step 3: Perform backpropagation\n",
        "            # Before calculating the gradients, we need to ensure that they are all zero.\n",
        "            # The gradients would not be overwritten, but actually added to the existing ones.\n",
        "            optimizer.zero_grad()  #CANCELLO IL GRADIENTE\n",
        "            # Perform backpropagation\n",
        "            loss.backward()   #APPLICO LA BACKPROP\n",
        "            \n",
        "            ## Step 4: Update the parameters\n",
        "            optimizer.step()   #AGGIORNO I PESI\n",
        "            \n",
        "        # Compute epoch loss    \n",
        "        epoch_loss = sum_loss / len(data_loader)\n",
        "        \n",
        "        # Update history\n",
        "        history_loss.append(epoch_loss)\n",
        "        \n",
        "        # Print info\n",
        "        print(f\"Epoch {epoch+1}: TrL= {epoch_loss}\")\n",
        "        \n",
        "    # Plot the loss\n",
        "    plt.title(\"Loss\")\n",
        "    plt.plot(history_loss, label=\"train\")\n",
        "    plt.legend()\n",
        "    plt.show()\n",
        "\n"
      ],
      "metadata": {
        "id": "L7LIpDp4vFlK"
      },
      "execution_count": null,
      "outputs": []
    },
    {
      "cell_type": "code",
      "source": [
        "train_model(net, optimizer, dloader_train, criterion)  #QUESTO è IL TRAINING"
      ],
      "metadata": {
        "colab": {
          "base_uri": "https://localhost:8080/",
          "height": 1000
        },
        "id": "RyWehc3gwO7H",
        "outputId": "7650b38f-e06e-4b55-d802-aff6fbf87c7a"
      },
      "execution_count": null,
      "outputs": [
        {
          "output_type": "stream",
          "name": "stdout",
          "text": [
            "Epoch 1: TrL= 0.8347820192575455\n",
            "Epoch 2: TrL= 0.7717165970802307\n",
            "Epoch 3: TrL= 0.7265711176395416\n",
            "Epoch 4: TrL= 0.6907790052890778\n",
            "Epoch 5: TrL= 0.6604760658740997\n",
            "Epoch 6: TrL= 0.6337206315994263\n",
            "Epoch 7: TrL= 0.6095507127046585\n",
            "Epoch 8: TrL= 0.587420048713684\n",
            "Epoch 9: TrL= 0.5669839736819268\n",
            "Epoch 10: TrL= 0.5480331027507782\n",
            "Epoch 11: TrL= 0.5304023373126984\n",
            "Epoch 12: TrL= 0.5139734360575676\n",
            "Epoch 13: TrL= 0.49862923443317414\n",
            "Epoch 14: TrL= 0.4842733827233314\n",
            "Epoch 15: TrL= 0.4708196470141411\n",
            "Epoch 16: TrL= 0.4582023876905441\n",
            "Epoch 17: TrL= 0.4463350060582161\n",
            "Epoch 18: TrL= 0.4351579225063324\n",
            "Epoch 19: TrL= 0.4246135574579239\n",
            "Epoch 20: TrL= 0.4146585485339165\n",
            "Epoch 21: TrL= 0.4052343407273293\n",
            "Epoch 22: TrL= 0.3963152533769608\n",
            "Epoch 23: TrL= 0.38784037709236147\n",
            "Epoch 24: TrL= 0.37979142636060714\n",
            "Epoch 25: TrL= 0.3721350434422493\n",
            "Epoch 26: TrL= 0.3648387834429741\n",
            "Epoch 27: TrL= 0.3578808254003525\n",
            "Epoch 28: TrL= 0.35123385310173033\n",
            "Epoch 29: TrL= 0.3448755219578743\n",
            "Epoch 30: TrL= 0.33879162728786466\n",
            "Epoch 31: TrL= 0.33295453399419783\n",
            "Epoch 32: TrL= 0.32735755532979965\n",
            "Epoch 33: TrL= 0.32197859466075895\n",
            "Epoch 34: TrL= 0.31681427419185637\n",
            "Epoch 35: TrL= 0.311839305460453\n",
            "Epoch 36: TrL= 0.30705108761787414\n",
            "Epoch 37: TrL= 0.30243445381522177\n",
            "Epoch 38: TrL= 0.2979810380935669\n",
            "Epoch 39: TrL= 0.29368342652916907\n",
            "Epoch 40: TrL= 0.28952804327011106\n",
            "Epoch 41: TrL= 0.28550675868988035\n",
            "Epoch 42: TrL= 0.28162319496273996\n",
            "Epoch 43: TrL= 0.27786022290587425\n",
            "Epoch 44: TrL= 0.27421252146363256\n",
            "Epoch 45: TrL= 0.270682702511549\n",
            "Epoch 46: TrL= 0.26725172489881516\n",
            "Epoch 47: TrL= 0.2639245907962322\n",
            "Epoch 48: TrL= 0.2606959407031536\n",
            "Epoch 49: TrL= 0.25755302235484123\n",
            "Epoch 50: TrL= 0.2545002481341362\n",
            "Epoch 51: TrL= 0.25153034761548043\n",
            "Epoch 52: TrL= 0.24864472344517707\n",
            "Epoch 53: TrL= 0.24582948103547098\n",
            "Epoch 54: TrL= 0.24309165745973588\n",
            "Epoch 55: TrL= 0.2404194511473179\n",
            "Epoch 56: TrL= 0.23781851768493653\n",
            "Epoch 57: TrL= 0.23527929231524466\n",
            "Epoch 58: TrL= 0.2328043435513973\n",
            "Epoch 59: TrL= 0.23038792997598648\n",
            "Epoch 60: TrL= 0.2280290086567402\n",
            "Epoch 61: TrL= 0.22572328731417657\n",
            "Epoch 62: TrL= 0.22347327277064324\n",
            "Epoch 63: TrL= 0.2212710788846016\n",
            "Epoch 64: TrL= 0.21912194460630416\n",
            "Epoch 65: TrL= 0.21701548606157303\n",
            "Epoch 66: TrL= 0.21495840564370156\n",
            "Epoch 67: TrL= 0.2129441310465336\n",
            "Epoch 68: TrL= 0.21097139045596122\n",
            "Epoch 69: TrL= 0.2090401144325733\n",
            "Epoch 70: TrL= 0.20714935496449471\n",
            "Epoch 71: TrL= 0.2052993157505989\n",
            "Epoch 72: TrL= 0.20348312124609946\n",
            "Epoch 73: TrL= 0.20170398876070977\n",
            "Epoch 74: TrL= 0.19996143728494645\n",
            "Epoch 75: TrL= 0.1982499960064888\n",
            "Epoch 76: TrL= 0.19657126888632775\n",
            "Epoch 77: TrL= 0.19492526844143868\n",
            "Epoch 78: TrL= 0.19331258550286293\n",
            "Epoch 79: TrL= 0.1917259368300438\n",
            "Epoch 80: TrL= 0.19016727447509765\n",
            "Epoch 81: TrL= 0.18863963544368745\n",
            "Epoch 82: TrL= 0.1871373797953129\n",
            "Epoch 83: TrL= 0.1856668135523796\n",
            "Epoch 84: TrL= 0.1842144609987736\n",
            "Epoch 85: TrL= 0.1827918879687786\n",
            "Epoch 86: TrL= 0.18139297097921372\n",
            "Epoch 87: TrL= 0.1800182630121708\n",
            "Epoch 88: TrL= 0.17866573393344878\n",
            "Epoch 89: TrL= 0.17733657628297805\n",
            "Epoch 90: TrL= 0.17602814584970475\n",
            "Epoch 91: TrL= 0.1747417077422142\n",
            "Epoch 92: TrL= 0.1734749849140644\n",
            "Epoch 93: TrL= 0.17222942858934404\n",
            "Epoch 94: TrL= 0.17100589260458945\n",
            "Epoch 95: TrL= 0.16979781836271285\n",
            "Epoch 96: TrL= 0.16860764019191266\n",
            "Epoch 97: TrL= 0.16743840858340264\n",
            "Epoch 98: TrL= 0.166288420855999\n",
            "Epoch 99: TrL= 0.16515394613146783\n",
            "Epoch 100: TrL= 0.16403643734753132\n"
          ]
        },
        {
          "output_type": "display_data",
          "data": {
            "text/plain": [
              "<Figure size 432x288 with 1 Axes>"
            ],
            "image/png": "[encoded data removed]"
          },
          "metadata": {
            "needs_background": "light"
          }
        }
      ]
    },
    {
      "cell_type": "markdown",
      "source": [
        "**Evaluation**"
      ],
      "metadata": {
        "id": "Wq15nsr3XJw1"
      }
    },
    {
      "cell_type": "code",
      "source": [
        "def eval_model(model, data_loader):  #PRENDE IL MODELLO DA VALUTARE \n",
        "    model.eval() # Set model to eval mode\n",
        "    true_preds, num_preds = 0., 0. #QUANTE PREDICTIONS TRUE E QUANTE FALSE\n",
        "\n",
        "    with torch.no_grad(): # Deactivate gradients for the following code, NON TI SERVE PER IL VALIDATION \n",
        "        for data_inputs, data_labels in data_loader:\n",
        "\n",
        "            # Determine prediction of model on dev set\n",
        "            preds = model(data_inputs)\n",
        "            preds = preds.squeeze(dim=1)  \n",
        "            preds = torch.sigmoid(preds) # Sigmoid to map predictions between 0 and 1 PRIMA AVEVAMO USATO BINARY CROSS COME LOSS, QUI DEVO PREDIRRE\n",
        "            pred_labels = (preds >= 0.5).long() # Binarize predictions to 0 and 1, TUTTO CIO CHE è MAGGIORE DI 0.5 SARà 1, ALTRIMENTI 0\n",
        "\n",
        "            # Keep records of predictions for the accuracy metric (true_preds=TP+TN, num_preds=TP+TN+FP+FN)\n",
        "            true_preds += (pred_labels == data_labels).sum()\n",
        "            num_preds += data_labels.shape[0]\n",
        "\n",
        "    acc = true_preds / num_preds\n",
        "    print(\"Accuracy of the model: %4.2f%%\" % (100.0*acc))"
      ],
      "metadata": {
        "id": "2toR_lbTwZfV"
      },
      "execution_count": null,
      "outputs": []
    },
    {
      "cell_type": "code",
      "source": [
        "eval_model(net, dloader_test)"
      ],
      "metadata": {
        "colab": {
          "base_uri": "https://localhost:8080/"
        },
        "id": "1q2jgDiNwbh1",
        "outputId": "6a44092e-2976-4caa-997b-ac11df2e4762"
      },
      "execution_count": null,
      "outputs": [
        {
          "output_type": "stream",
          "name": "stdout",
          "text": [
            "Accuracy of the model: 99.80%\n"
          ]
        }
      ]
    },
    {
      "cell_type": "markdown",
      "source": [
        "**The XOR logic gate**"
      ],
      "metadata": {
        "id": "WEXbVr5eXPOo"
      }
    },
    {
      "cell_type": "markdown",
      "source": [
        "Let's create the XOR Dataset"
      ],
      "metadata": {
        "id": "Qn0pNpy9Xur2"
      }
    },
    {
      "cell_type": "code",
      "source": [
        "class XORDataset(Dataset):\n",
        "  def __init__(self, num_samples = 5000):\n",
        "    super().__init__()\n",
        "\n",
        "    self.size = num_samples\n",
        "    d = torch.randint(low = 0 , high = 2, size=(self.size,2), dtype=torch.float32) #qui self.size corrisponde a 5000 e 2 colonne, è la dimensione del tensor 5000,2\n",
        "    l = (d.sum(dim=1) == 1).to(torch.float32)  # questo è il labels, in pratica se la somma è 1 mi ritorni true\n",
        "    d += 0.1 * torch.randn(d.shape)  #aggiungo il bias\n",
        "    self.data = d  #qui ho i dati\n",
        "    self.label = l  #qui ho i label\n",
        "\n",
        "\n",
        "  def __len__(self):\n",
        "    # Number of data point we have.\n",
        "    return self.size # len(self.data)\n",
        "\n",
        "\n",
        "  def __getitem__(self, idx):\n",
        "    # Return the idx-th data point of the dataset\n",
        "    # If we have multiple things to return (data point and label), we can return them as tuple\n",
        "    data_point = self.data[idx]\n",
        "    data_label = self.label[idx]\n",
        "    return data_point, data_label"
      ],
      "metadata": {
        "id": "JNAgf7ibeu8v"
      },
      "execution_count": null,
      "outputs": []
    },
    {
      "cell_type": "code",
      "source": [
        "from operator import getitem\n",
        "# dataset instantiation\n",
        "xor_dataset = XORDataset(num_samples = 5000)\n",
        "len(xor_dataset)\n",
        "\n"
      ],
      "metadata": {
        "colab": {
          "base_uri": "https://localhost:8080/"
        },
        "id": "M1le1KBCgqAs",
        "outputId": "d9d4cab0-4f6c-47a8-eb22-05dff2fab221"
      },
      "execution_count": null,
      "outputs": [
        {
          "output_type": "execute_result",
          "data": {
            "text/plain": [
              "5000"
            ]
          },
          "metadata": {},
          "execution_count": 91
        }
      ]
    },
    {
      "cell_type": "markdown",
      "source": [
        "The class torch.utils.data.DataLoader represents a Python iterable over a dataset. The data loader communicates with the dataset using the function getitem, and stacks its outputs as tensors over the first dimension to form a batch. In contrast to the dataset class, we usually don’t have to define our own data loader class, but can just create an object of it with the dataset as input. We can configure our data loader with the following input arguments:\n",
        "\n",
        "- batch_size: number of samples to stack in a batch\n",
        "- shuffle: if True, the data is returned in a random order. This is important during training for introducing stochasticity.\n",
        "- drop_last: if True, the last batch is dropped in case it is smaller than the specified batch size. This occurs when the dataset size is not a multiple of the batch size."
      ],
      "metadata": {
        "id": "Zz2cFzHptjT7"
      }
    },
    {
      "cell_type": "code",
      "source": [
        "# Create two datasets for train and test\n",
        "dset_train = XORDataset(num_samples = 5000)\n",
        "dset_test = XORDataset(num_samples = 500)\n",
        "\n",
        "# Create the DataLoaders\n",
        "dloader_train = DataLoader(dset_train, batch_size = 50, shuffle=True)\n",
        "dloader_test = DataLoader(dset_test, batch_size = 50)"
      ],
      "metadata": {
        "id": "D_ISJH1ugzpC"
      },
      "execution_count": null,
      "outputs": []
    },
    {
      "cell_type": "code",
      "source": [
        "# Plot the XOR dataset\n",
        "plt.scatter(xor_dataset.data[:,0], xor_dataset.data[:,1], c = xor_dataset.label, cmap = \"jet\")\n",
        "plt.title(\"XOR\")\n",
        "plt.show()"
      ],
      "metadata": {
        "colab": {
          "base_uri": "https://localhost:8080/",
          "height": 281
        },
        "id": "fyjMV_3_g4hg",
        "outputId": "50766546-6791-4af3-a81d-a936a52fb1d1"
      },
      "execution_count": null,
      "outputs": [
        {
          "output_type": "display_data",
          "data": {
            "text/plain": [
              "<Figure size 432x288 with 1 Axes>"
            ],
            "image/png": "[encoded data removed]"
          },
          "metadata": {
            "needs_background": "light"
          }
        }
      ]
    },
    {
      "cell_type": "code",
      "source": [
        "class XORModel(nn.Module):  #the problem is not linear, we cannot find a line that split 2 classes\n",
        "  # Constructor  SO WE ADD NON LINEARITY\n",
        "  def __init__(self, input_dim, hidden_dim, output_dim):\n",
        "    super(XORModel, self).__init__()\n",
        "    self.layer1 = torch.nn.Linear(in_features=input_dim, out_features=hidden_dim)  #1 layer is not enough looking at the plot, a line cannot solve the problem\n",
        "    self.nnReLu = torch.nn.ReLU()  #this is the activaction function that apply the non linearity\n",
        "    self.layer2 = torch.nn.Linear(in_features = hidden_dim, out_features= output_dim )\n",
        "    \n",
        "  # THE forward define all the information flows to the model\n",
        "  def forward(self, x):\n",
        "    x = self.layer1(x)  #the output of the 1 linear is the input of the activaction function\n",
        "    x = self.nnReLu(x) # the output of the relu is the input of the second linear funct\n",
        "    output = self.layer2(x)\n",
        "\n",
        "    \n",
        "    return output "
      ],
      "metadata": {
        "id": "ceO6xC2shAiw"
      },
      "execution_count": null,
      "outputs": []
    },
    {
      "cell_type": "markdown",
      "source": [
        "For the examples in this notebook, we will use a tiny neural network with two input neurons and four hidden neurons. As we perform binary classification, we will use a single output neuron. Note that we do not apply a sigmoid on the output yet. This is because other functions, especially the loss, are more efficient and precise to calculate on the original outputs instead of the sigmoid output. We will discuss the detailed reason later."
      ],
      "metadata": {
        "id": "bdhvzO8Pf9Dp"
      }
    },
    {
      "cell_type": "code",
      "source": [
        "# Create the model with 2 layers\n",
        "net2 = XORModel(input_dim = 2,hidden_dim=4, output_dim = 1) # net contiene il modello\n",
        "# nel nostro esempio abbiamo solo 1 neurone, ecco perche è sufficiente una sola rete con 2 input ed 1 output\n"
      ],
      "metadata": {
        "id": "wcWhkRlz1g_v"
      },
      "execution_count": null,
      "outputs": []
    },
    {
      "cell_type": "code",
      "source": [
        "print(net2)\n"
      ],
      "metadata": {
        "colab": {
          "base_uri": "https://localhost:8080/"
        },
        "id": "MSthflfl2eoV",
        "outputId": "86c60754-6713-43ca-c7ff-de3ee2174601"
      },
      "execution_count": null,
      "outputs": [
        {
          "output_type": "stream",
          "name": "stdout",
          "text": [
            "XORModel(\n",
            "  (layer1): Linear(in_features=2, out_features=4, bias=True)\n",
            "  (nnReLu): ReLU()\n",
            "  (layer2): Linear(in_features=4, out_features=1, bias=True)\n",
            ")\n"
          ]
        }
      ]
    },
    {
      "cell_type": "markdown",
      "source": [
        "**The Optimizer**\n",
        "For updating the parameters of the net, PyTorch provides the package torch.optim. For now we use the Stocasting Gradient Descent, that updates the parameters by multiplying the gradients with a small constant, called learning rate."
      ],
      "metadata": {
        "id": "AOrP8kd12u5U"
      }
    },
    {
      "cell_type": "code",
      "source": [
        "import torch.optim as optim\n",
        "optimizer = optim.SGD(net2.parameters(), lr = 0.01)"
      ],
      "metadata": {
        "id": "VqfDZ4VJ21CU"
      },
      "execution_count": null,
      "outputs": []
    },
    {
      "cell_type": "markdown",
      "source": [
        "The optimizer provides us two very usefull functions:\n",
        "\n",
        "optimizer.step() updates the model parameters (weights) based on the gradient values.\n",
        "optimizer.zero_grad() sets the gradients of all paramters to zero."
      ],
      "metadata": {
        "id": "Wih6TpJ03b4k"
      }
    },
    {
      "cell_type": "markdown",
      "source": [
        "**The Loss** \n",
        "\n",
        "For binary classification, we ca use the Binary Cross Entropy (BCE) Loss.\n",
        "\n",
        "As BCE loss expects all inputs are in the range  [0,1]  , we will use BCEWithLogitsLoss, which first applies a sigmoid function to the inputs."
      ],
      "metadata": {
        "id": "Cxb8YpF_3d2r"
      }
    },
    {
      "cell_type": "code",
      "source": [
        "# Define a loss function\n",
        "criterion = nn.BCEWithLogitsLoss()"
      ],
      "metadata": {
        "id": "YipEYKxV3syp"
      },
      "execution_count": null,
      "outputs": []
    },
    {
      "cell_type": "markdown",
      "source": [
        "###Train the net"
      ],
      "metadata": {
        "id": "-mJgxraf3520"
      }
    },
    {
      "cell_type": "code",
      "source": [
        "train_model(net2, optimizer, dloader_train, criterion)"
      ],
      "metadata": {
        "colab": {
          "base_uri": "https://localhost:8080/",
          "height": 1000
        },
        "id": "cLRjpdM53qXT",
        "outputId": "c5389128-315b-4a03-ae85-8ca31a9eef58"
      },
      "execution_count": null,
      "outputs": [
        {
          "output_type": "stream",
          "name": "stdout",
          "text": [
            "Epoch 1: TrL= 0.7563916236162186\n",
            "Epoch 2: TrL= 0.7171477884054184\n",
            "Epoch 3: TrL= 0.6945517176389694\n",
            "Epoch 4: TrL= 0.6803359991312027\n",
            "Epoch 5: TrL= 0.6706490182876587\n",
            "Epoch 6: TrL= 0.661953791975975\n",
            "Epoch 7: TrL= 0.6533831089735032\n",
            "Epoch 8: TrL= 0.6445909762382507\n",
            "Epoch 9: TrL= 0.6354481345415115\n",
            "Epoch 10: TrL= 0.6259709680080414\n",
            "Epoch 11: TrL= 0.6162190294265747\n",
            "Epoch 12: TrL= 0.6061416238546371\n",
            "Epoch 13: TrL= 0.5957659524679184\n",
            "Epoch 14: TrL= 0.5851710915565491\n",
            "Epoch 15: TrL= 0.574421012699604\n",
            "Epoch 16: TrL= 0.5636154866218567\n",
            "Epoch 17: TrL= 0.5528241190314293\n",
            "Epoch 18: TrL= 0.5421694880723953\n",
            "Epoch 19: TrL= 0.5316981822252274\n",
            "Epoch 20: TrL= 0.5214786288142205\n",
            "Epoch 21: TrL= 0.511639899611473\n",
            "Epoch 22: TrL= 0.5021288108825683\n",
            "Epoch 23: TrL= 0.4930696925520897\n",
            "Epoch 24: TrL= 0.4844303187727928\n",
            "Epoch 25: TrL= 0.47624830305576327\n",
            "Epoch 26: TrL= 0.46855115532875063\n",
            "Epoch 27: TrL= 0.4613119226694107\n",
            "Epoch 28: TrL= 0.4545021480321884\n",
            "Epoch 29: TrL= 0.4481180998682976\n",
            "Epoch 30: TrL= 0.4421368923783302\n",
            "Epoch 31: TrL= 0.43654013723134993\n",
            "Epoch 32: TrL= 0.4313047203421593\n",
            "Epoch 33: TrL= 0.4264010187983513\n",
            "Epoch 34: TrL= 0.42179949551820756\n",
            "Epoch 35: TrL= 0.4174823409318924\n",
            "Epoch 36: TrL= 0.4134252494573593\n",
            "Epoch 37: TrL= 0.4096086621284485\n",
            "Epoch 38: TrL= 0.4060009878873825\n",
            "Epoch 39: TrL= 0.4025682032108307\n",
            "Epoch 40: TrL= 0.3992918968200684\n",
            "Epoch 41: TrL= 0.3961399620771408\n",
            "Epoch 42: TrL= 0.39308750569820405\n",
            "Epoch 43: TrL= 0.3901050963997841\n",
            "Epoch 44: TrL= 0.38716266125440596\n",
            "Epoch 45: TrL= 0.3842296752333641\n",
            "Epoch 46: TrL= 0.38127052202820777\n",
            "Epoch 47: TrL= 0.3782494580745697\n",
            "Epoch 48: TrL= 0.37511457204818727\n",
            "Epoch 49: TrL= 0.37180995345115664\n",
            "Epoch 50: TrL= 0.3682914552092552\n",
            "Epoch 51: TrL= 0.364502769857645\n",
            "Epoch 52: TrL= 0.3603598856925964\n",
            "Epoch 53: TrL= 0.3557787463068962\n",
            "Epoch 54: TrL= 0.35069703847169875\n",
            "Epoch 55: TrL= 0.34501997277140617\n",
            "Epoch 56: TrL= 0.3386544416844845\n",
            "Epoch 57: TrL= 0.33151776194572447\n",
            "Epoch 58: TrL= 0.32359634071588517\n",
            "Epoch 59: TrL= 0.31504155054688454\n",
            "Epoch 60: TrL= 0.3059989456832409\n",
            "Epoch 61: TrL= 0.2967017659544945\n",
            "Epoch 62: TrL= 0.2872634945809841\n",
            "Epoch 63: TrL= 0.2777684015035629\n",
            "Epoch 64: TrL= 0.2682707028090954\n",
            "Epoch 65: TrL= 0.25888682961463927\n",
            "Epoch 66: TrL= 0.24969713553786277\n",
            "Epoch 67: TrL= 0.24073078781366347\n",
            "Epoch 68: TrL= 0.23205356031656266\n",
            "Epoch 69: TrL= 0.2236902216076851\n",
            "Epoch 70: TrL= 0.2156621564924717\n",
            "Epoch 71: TrL= 0.20797418043017388\n",
            "Epoch 72: TrL= 0.2006374204158783\n",
            "Epoch 73: TrL= 0.19364673733711243\n",
            "Epoch 74: TrL= 0.1869859766960144\n",
            "Epoch 75: TrL= 0.1806520077586174\n",
            "Epoch 76: TrL= 0.17462313249707223\n",
            "Epoch 77: TrL= 0.16887563869357108\n",
            "Epoch 78: TrL= 0.1634048806875944\n",
            "Epoch 79: TrL= 0.15819932878017426\n",
            "Epoch 80: TrL= 0.15321943327784537\n",
            "Epoch 81: TrL= 0.1484877712279558\n",
            "Epoch 82: TrL= 0.1439679142087698\n",
            "Epoch 83: TrL= 0.13965696193277835\n",
            "Epoch 84: TrL= 0.13553593769669534\n",
            "Epoch 85: TrL= 0.13159633457660674\n",
            "Epoch 86: TrL= 0.12783895775675774\n",
            "Epoch 87: TrL= 0.12424224607646465\n",
            "Epoch 88: TrL= 0.12080088913440705\n",
            "Epoch 89: TrL= 0.11750722967088223\n",
            "Epoch 90: TrL= 0.11435409814119339\n",
            "Epoch 91: TrL= 0.11132916621863842\n",
            "Epoch 92: TrL= 0.10843153655529023\n",
            "Epoch 93: TrL= 0.10565309688448905\n",
            "Epoch 94: TrL= 0.10298809930682182\n",
            "Epoch 95: TrL= 0.1004268293082714\n",
            "Epoch 96: TrL= 0.09796648286283016\n",
            "Epoch 97: TrL= 0.0956054276227951\n",
            "Epoch 98: TrL= 0.09333416100591421\n",
            "Epoch 99: TrL= 0.09114846959710121\n",
            "Epoch 100: TrL= 0.08904280040413141\n"
          ]
        },
        {
          "output_type": "display_data",
          "data": {
            "text/plain": [
              "<Figure size 432x288 with 1 Axes>"
            ],
            "image/png": "[encoded data removed]"
          },
          "metadata": {
            "needs_background": "light"
          }
        }
      ]
    },
    {
      "cell_type": "code",
      "source": [
        "# Evaluate the model\n",
        "eval_model(net2, dloader_test)"
      ],
      "metadata": {
        "colab": {
          "base_uri": "https://localhost:8080/"
        },
        "id": "-P-2AAMt4Dep",
        "outputId": "5fcced34-2ae8-4c4f-eda9-198614d175fe"
      },
      "execution_count": null,
      "outputs": [
        {
          "output_type": "stream",
          "name": "stdout",
          "text": [
            "Accuracy of the model: 100.00%\n"
          ]
        }
      ]
    }
  ]
}